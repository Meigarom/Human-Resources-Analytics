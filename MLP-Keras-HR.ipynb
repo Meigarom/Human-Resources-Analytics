{
 "cells": [
  {
   "cell_type": "code",
   "execution_count": 5,
   "metadata": {},
   "outputs": [],
   "source": [
    "from sklearn.model_selection   import train_test_split, StratifiedKFold\n",
    "from sklearn.ensemble          import RandomForestClassifier\n",
    "from sklearn.feature_selection import SelectFromModel\n",
    "from sklearn.metrics           import confusion_matrix, accuracy_score, f1_score, roc_curve\n",
    "from sklearn.utils             import resample\n",
    "from keras.utils               import to_categorical\n",
    "from sklearn.cross_validation  import KFold\n",
    "from keras.models              import Sequential\n",
    "from keras.layers.core         import Dense, Dropout\n",
    "from keras.callbacks           import EarlyStopping"
   ]
  },
  {
   "cell_type": "code",
   "execution_count": 6,
   "metadata": {},
   "outputs": [],
   "source": [
    "import pandas as pd\n",
    "import numpy as np\n",
    "import matplotlib.pyplot as plt"
   ]
  },
  {
   "cell_type": "code",
   "execution_count": 7,
   "metadata": {},
   "outputs": [],
   "source": [
    "# Functions\n",
    "def find_optimal_cutoff( target, predicted ):\n",
    "    fpr, tpr, threshold = roc_curve(target, predicted)\n",
    "    i = np.arange( len( tpr ) )\n",
    "    roc=pd.DataFrame({'tf':pd.Series(tpr-(1-fpr), index=i), 'threshold':pd.Series(threshold, index=i)})\n",
    "    roc_t = roc.ix[(roc.tf-0).abs().argsort()[:1]]\n",
    "    return list(roc_t['threshold'])"
   ]
  },
  {
   "cell_type": "code",
   "execution_count": 8,
   "metadata": {},
   "outputs": [
    {
     "name": "stdout",
     "output_type": "stream",
     "text": [
      "===> loading dataset\n"
     ]
    }
   ],
   "source": [
    "# Load dataset\n",
    "print( '===> loading dataset' )\n",
    "data = pd.read_csv( '~/bitbucket_repos/machine_learning/dataset/HR.csv' )\n",
    "dataset = data.rename( columns = {'left':'class'} )"
   ]
  },
  {
   "cell_type": "code",
   "execution_count": 9,
   "metadata": {},
   "outputs": [],
   "source": [
    "# Unbalanced dataset\n",
    "# Upsampling\n",
    "minority = dataset[ dataset['class'] == 1 ]\n",
    "minority_upsampled = resample( minority, replace = True, n_samples = 11428, random_state = 123 )"
   ]
  },
  {
   "cell_type": "code",
   "execution_count": 11,
   "metadata": {},
   "outputs": [],
   "source": [
    "# Downsampling\n",
    "majority = dataset[ dataset['class'] == 0 ]\n",
    "majority_downsampled = resample( majority, replace = False, n_samples = 3571, random_state = 123 )\n",
    "dataset = pd.concat( [minority, majority_downsampled] )"
   ]
  },
  {
   "cell_type": "code",
   "execution_count": 12,
   "metadata": {},
   "outputs": [],
   "source": [
    "# Transform features\n",
    "dataset = pd.get_dummies( dataset, columns = ['sales', 'salary'] )"
   ]
  },
  {
   "cell_type": "code",
   "execution_count": 14,
   "metadata": {},
   "outputs": [],
   "source": [
    "# Selection features\n",
    "features = dataset.drop( 'class', axis = 1 )\n",
    "labels = dataset[['class']]\n",
    "rf = RandomForestClassifier( n_estimators = 100, criterion = 'entropy', max_depth = 15,\n",
    "                             min_samples_leaf = 50, min_samples_split = 100, random_state = 10 )"
   ]
  },
  {
   "cell_type": "code",
   "execution_count": 15,
   "metadata": {},
   "outputs": [
    {
     "name": "stdout",
     "output_type": "stream",
     "text": [
      "features importance:\n",
      " satisfaction_level       0.291109\n",
      "time_spend_company       0.252124\n",
      "number_project           0.157013\n",
      "average_montly_hours     0.154936\n",
      "last_evaluation          0.106245\n",
      "Work_accident            0.016649\n",
      "salary_low               0.008121\n",
      "salary_high              0.005214\n",
      "salary_medium            0.002544\n",
      "sales_technical          0.001741\n",
      "sales_sales              0.001323\n",
      "sales_support            0.000672\n",
      "sales_RandD              0.000447\n",
      "promotion_last_5years    0.000416\n",
      "sales_marketing          0.000284\n",
      "sales_hr                 0.000277\n",
      "sales_management         0.000274\n",
      "sales_product_mng        0.000252\n",
      "sales_IT                 0.000192\n",
      "sales_accounting         0.000168\n",
      "dtype: float64\n"
     ]
    }
   ],
   "source": [
    "# Train the selector\n",
    "rf.fit( features, labels.values.ravel() )\n",
    "features_imp = pd.Series(rf.feature_importances_,index=features.columns).sort_values(ascending=False)\n",
    "print( 'features importance:\\n', features_imp )"
   ]
  },
  {
   "cell_type": "code",
   "execution_count": 16,
   "metadata": {},
   "outputs": [
    {
     "name": "stdout",
     "output_type": "stream",
     "text": [
      "        Main Features\n",
      "0  satisfaction_level\n",
      "1      number_project\n",
      "2  time_spend_company\n"
     ]
    }
   ],
   "source": [
    "criteria = rf.feature_importances_ >  0.155\n",
    "features = features.iloc[:, criteria ]\n",
    "print( pd.DataFrame({'Main Features': features.columns} ) )"
   ]
  },
  {
   "cell_type": "code",
   "execution_count": 19,
   "metadata": {},
   "outputs": [],
   "source": [
    "# Split dataset - Train and Test dataset\n",
    "trainX, testX, trainY, testY = train_test_split( features, labels, test_size = 0.2 )\n",
    "\n",
    "trainX = trainX.as_matrix()\n",
    "trainY = to_categorical( trainY, num_classes = 2 )\n",
    "\n",
    "\n",
    "testX = testX.as_matrix()\n",
    "testY = to_categorical( testY, num_classes = 2 )"
   ]
  },
  {
   "cell_type": "code",
   "execution_count": 20,
   "metadata": {},
   "outputs": [
    {
     "name": "stdout",
     "output_type": "stream",
     "text": [
      "===> running fold 1 / 10\n",
      "\n",
      "accuracy: 0.902097902098\n",
      "===> running fold 2 / 10\n",
      "\n",
      "accuracy: 0.868881118881\n",
      "===> running fold 3 / 10\n",
      "\n",
      "accuracy: 0.886363636364\n",
      "===> running fold 4 / 10\n",
      "\n",
      "accuracy: 0.870402802102\n",
      "===> running fold 5 / 10\n",
      "\n",
      "accuracy: 0.893169877408\n",
      "===> running fold 6 / 10\n",
      "\n",
      "accuracy: 0.900175131349\n",
      "===> running fold 7 / 10\n",
      "\n",
      "accuracy: 0.887915936953\n",
      "===> running fold 8 / 10\n",
      "\n",
      "accuracy: 0.880910683012\n",
      "===> running fold 9 / 10\n",
      "\n",
      "accuracy: 0.896672504378\n",
      "===> running fold 10 / 10\n",
      "\n",
      "accuracy: 0.872154115587\n",
      "Results: 88.5874370813 +/- 0.0117599738391\n"
     ]
    }
   ],
   "source": [
    "# Cross-Validation\n",
    "results = []\n",
    "i = 0\n",
    "n_folds = 10\n",
    "cv = KFold( len( trainX ), n_folds = n_folds )\n",
    "callbacks = [EarlyStopping( monitor = 'val_loss', patience = 2 )]\n",
    "for traincv, testcv in cv:\n",
    "    print( '===> running fold', i+1, '/', n_folds )\n",
    "    # Train\n",
    "    mlp = Sequential()\n",
    "    mlp.add(Dense(100, input_dim=trainX.shape[1], kernel_initializer='random_uniform',bias_initializer='random_uniform', activation='relu'))\n",
    "    mlp.add( Dense( 2, kernel_initializer='random_uniform', bias_initializer = 'random_uniform', activation='sigmoid' ) )\n",
    "    mlp.compile( optimizer = 'adam', loss = 'binary_crossentropy', metrics = ['accuracy'] )\n",
    "    mlp.fit( trainX[traincv], trainY[traincv], batch_size=64, epochs=50, verbose=0, validation_split=0.3, callbacks=callbacks )\n",
    "    # Test\n",
    "    predicted = mlp.predict_proba( trainX[testcv] )\n",
    "    predicted = np.where( predicted[:,0] > 0.5, 1, 0 )\n",
    "    acc = accuracy_score( trainY[testcv,0], predicted )\n",
    "    print( '\\naccuracy:', acc )\n",
    "    results.append( acc )\n",
    "    i += 1\n",
    "print( 'Results:', str( 100*np.array( results ).mean() ), '+/-', str( np.array( results ).std() ) )"
   ]
  },
  {
   "cell_type": "code",
   "execution_count": 25,
   "metadata": {},
   "outputs": [
    {
     "name": "stdout",
     "output_type": "stream",
     "text": [
      "Train on 3999 samples, validate on 1714 samples\n",
      "Epoch 1/50\n",
      " - 1s - loss: 0.6854 - acc: 0.6227 - val_loss: 0.6735 - val_acc: 0.7392\n",
      "Epoch 2/50\n",
      " - 0s - loss: 0.6498 - acc: 0.7976 - val_loss: 0.6199 - val_acc: 0.8317\n",
      "Epoch 3/50\n",
      " - 0s - loss: 0.5851 - acc: 0.8370 - val_loss: 0.5493 - val_acc: 0.8466\n",
      "Epoch 4/50\n",
      " - 0s - loss: 0.5232 - acc: 0.8436 - val_loss: 0.4965 - val_acc: 0.8419\n",
      "Epoch 5/50\n",
      " - 0s - loss: 0.4766 - acc: 0.8456 - val_loss: 0.4538 - val_acc: 0.8518\n",
      "Epoch 6/50\n",
      " - 0s - loss: 0.4410 - acc: 0.8538 - val_loss: 0.4266 - val_acc: 0.8498\n",
      "Epoch 7/50\n",
      " - 0s - loss: 0.4159 - acc: 0.8586 - val_loss: 0.4040 - val_acc: 0.8611\n",
      "Epoch 8/50\n",
      " - 0s - loss: 0.3953 - acc: 0.8621 - val_loss: 0.3836 - val_acc: 0.8757\n",
      "Epoch 9/50\n",
      " - 0s - loss: 0.3790 - acc: 0.8682 - val_loss: 0.3726 - val_acc: 0.8708\n",
      "Epoch 10/50\n",
      " - 0s - loss: 0.3668 - acc: 0.8745 - val_loss: 0.3616 - val_acc: 0.8702\n",
      "Epoch 11/50\n",
      " - 0s - loss: 0.3565 - acc: 0.8771 - val_loss: 0.3531 - val_acc: 0.8816\n",
      "Epoch 12/50\n",
      " - 0s - loss: 0.3497 - acc: 0.8782 - val_loss: 0.3495 - val_acc: 0.8859\n",
      "Epoch 13/50\n",
      " - 0s - loss: 0.3429 - acc: 0.8797 - val_loss: 0.3416 - val_acc: 0.8833\n",
      "Epoch 14/50\n",
      " - 0s - loss: 0.3363 - acc: 0.8797 - val_loss: 0.3370 - val_acc: 0.8816\n",
      "Epoch 15/50\n",
      " - 0s - loss: 0.3346 - acc: 0.8811 - val_loss: 0.3332 - val_acc: 0.8865\n",
      "Epoch 16/50\n",
      " - 0s - loss: 0.3282 - acc: 0.8843 - val_loss: 0.3322 - val_acc: 0.8792\n",
      "Epoch 17/50\n",
      " - 0s - loss: 0.3262 - acc: 0.8852 - val_loss: 0.3294 - val_acc: 0.8810\n",
      "Epoch 18/50\n",
      " - 0s - loss: 0.3211 - acc: 0.8848 - val_loss: 0.3248 - val_acc: 0.8836\n",
      "Epoch 19/50\n",
      " - 0s - loss: 0.3190 - acc: 0.8866 - val_loss: 0.3293 - val_acc: 0.8754\n",
      "Epoch 20/50\n",
      " - 0s - loss: 0.3167 - acc: 0.8885 - val_loss: 0.3206 - val_acc: 0.8900\n",
      "Epoch 21/50\n",
      " - 0s - loss: 0.3140 - acc: 0.8885 - val_loss: 0.3214 - val_acc: 0.8792\n",
      "Epoch 22/50\n",
      " - 0s - loss: 0.3119 - acc: 0.8863 - val_loss: 0.3167 - val_acc: 0.8810\n",
      "Epoch 23/50\n",
      " - 0s - loss: 0.3133 - acc: 0.8857 - val_loss: 0.3215 - val_acc: 0.8871\n",
      "Epoch 24/50\n",
      " - 0s - loss: 0.3109 - acc: 0.8878 - val_loss: 0.3125 - val_acc: 0.8880\n",
      "Epoch 25/50\n",
      " - 0s - loss: 0.3072 - acc: 0.8870 - val_loss: 0.3117 - val_acc: 0.8827\n",
      "Epoch 26/50\n",
      " - 0s - loss: 0.3055 - acc: 0.8890 - val_loss: 0.3135 - val_acc: 0.8894\n",
      "Epoch 27/50\n",
      " - 0s - loss: 0.3050 - acc: 0.8908 - val_loss: 0.3080 - val_acc: 0.8894\n",
      "Epoch 28/50\n",
      " - 0s - loss: 0.3027 - acc: 0.8897 - val_loss: 0.3129 - val_acc: 0.8845\n",
      "Epoch 29/50\n",
      " - 0s - loss: 0.3012 - acc: 0.8891 - val_loss: 0.3056 - val_acc: 0.8868\n",
      "Epoch 30/50\n",
      " - 0s - loss: 0.2994 - acc: 0.8911 - val_loss: 0.3063 - val_acc: 0.8880\n",
      "Epoch 31/50\n",
      " - 0s - loss: 0.2993 - acc: 0.8891 - val_loss: 0.3023 - val_acc: 0.8886\n",
      "Epoch 32/50\n",
      " - 0s - loss: 0.2969 - acc: 0.8916 - val_loss: 0.3015 - val_acc: 0.8862\n",
      "Epoch 33/50\n",
      " - 0s - loss: 0.2976 - acc: 0.8911 - val_loss: 0.2996 - val_acc: 0.8891\n",
      "Epoch 34/50\n",
      " - 0s - loss: 0.2948 - acc: 0.8915 - val_loss: 0.3017 - val_acc: 0.8909\n",
      "Epoch 35/50\n",
      " - 0s - loss: 0.2938 - acc: 0.8891 - val_loss: 0.3014 - val_acc: 0.8891\n"
     ]
    }
   ],
   "source": [
    "# Training model - MLP\n",
    "mlp = Sequential()\n",
    "mlp.add( Dense( 100, input_dim=trainX.shape[1], kernel_initializer='random_uniform', bias_initializer='random_uniform', activation='relu') )\n",
    "mlp.add( Dense( 2, kernel_initializer='random_uniform', bias_initializer = 'random_uniform', activation='sigmoid' ) ) # Output Layer\n",
    "mlp.compile( optimizer = 'adam', loss = 'binary_crossentropy', metrics = ['accuracy'] )\n",
    "\n",
    "# Training\n",
    "callbacks = [EarlyStopping( monitor = 'val_loss', patience = 2 )]\n",
    "mlp_info = mlp.fit( trainX, trainY, batch_size=64, epochs=50, verbose=2, validation_split=0.3, callbacks = callbacks )"
   ]
  },
  {
   "cell_type": "code",
   "execution_count": 26,
   "metadata": {},
   "outputs": [
    {
     "data": {
      "image/png": "[encoded data removed]",
      "text/plain": [
       "<matplotlib.figure.Figure at 0x125913710>"
      ]
     },
     "metadata": {},
     "output_type": "display_data"
    }
   ],
   "source": [
    "# Training Error\n",
    "fig, axs = plt.subplots( figsize = ( 15, 5 ) )\n",
    "axs.plot( range( 1, len( mlp_info.history['loss'] ) + 1 ), mlp_info.history['loss'] )\n",
    "axs.plot( range( 1, len( mlp_info.history['val_loss'] ) + 1 ), mlp_info.history['val_loss'] )\n",
    "axs.set_title( 'Model Loss' )\n",
    "axs.set_title( 'Loss' )\n",
    "axs.set_title( 'Epoch' )\n",
    "axs.set_xticks( np.arange( 1,len(mlp_info.history['loss'] )+1), len(mlp_info.history['loss'])/10 )\n",
    "axs.legend( ['train', 'val'], loc = 'best' )\n",
    "plt.show()"
   ]
  },
  {
   "cell_type": "code",
   "execution_count": 27,
   "metadata": {},
   "outputs": [
    {
     "name": "stdout",
     "output_type": "stream",
     "text": [
      "\n",
      "threshold: 0.428235\n"
     ]
    }
   ],
   "source": [
    "# Performance model over Test Dataset\n",
    "predicted = mlp.predict_proba( testX )\n",
    "threshold = find_optimal_cutoff( testY[:,0], predicted[:,0] )\n",
    "print( '\\nthreshold:', threshold[0] )\n",
    "predicted = np.where( predicted[:,0] > threshold, 1, 0 )"
   ]
  },
  {
   "cell_type": "code",
   "execution_count": 29,
   "metadata": {},
   "outputs": [
    {
     "name": "stdout",
     "output_type": "stream",
     "text": [
      "accuracy: 0.904828551435\n",
      "[[655  69]\n",
      " [ 67 638]]\n",
      "f1-score: 0.903682719547\n"
     ]
    }
   ],
   "source": [
    "# Metrics\n",
    "# Accuracy\n",
    "acc = accuracy_score( testY[:,0], predicted )\n",
    "print( 'accuracy:', acc )\n",
    "\n",
    "# Confusion Matrix\n",
    "cm = confusion_matrix( testY[:,0], predicted )\n",
    "print( cm )\n",
    "\n",
    "# F1-score\n",
    "f1 = f1_score( testY[:,0], predicted )\n",
    "print( 'f1-score:', f1 )\n"
   ]
  },
  {
   "cell_type": "code",
   "execution_count": 30,
   "metadata": {},
   "outputs": [
    {
     "name": "stdout",
     "output_type": "stream",
     "text": [
      "===> well done\n"
     ]
    }
   ],
   "source": [
    "print( '===> well done' )"
   ]
  },
  {
   "cell_type": "code",
   "execution_count": null,
   "metadata": {},
   "outputs": [],
   "source": []
  }
 ],
 "metadata": {
  "kernelspec": {
   "display_name": "Python 3",
   "language": "python",
   "name": "python3"
  },
  "language_info": {
   "codemirror_mode": {
    "name": "ipython",
    "version": 3
   },
   "file_extension": ".py",
   "mimetype": "text/x-python",
   "name": "python",
   "nbconvert_exporter": "python",
   "pygments_lexer": "ipython3",
   "version": "3.6.0"
  }
 },
 "nbformat": 4,
 "nbformat_minor": 2
}
